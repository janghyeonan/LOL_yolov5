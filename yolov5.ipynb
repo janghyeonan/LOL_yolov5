{
 "cells": [
  {
   "cell_type": "code",
   "execution_count": null,
   "id": "de8684ed",
   "metadata": {},
   "outputs": [],
   "source": [
    "#yolov5를 내려받는다.\n",
    "!git clone https://github.com/ultralytics/yolov5.git"
   ]
  },
  {
   "cell_type": "code",
   "execution_count": null,
   "id": "0ff24ed6",
   "metadata": {},
   "outputs": [],
   "source": [
    "#설치 패키지를 설치한다. #제대로 설치가 안되는 부분은 검색하여 수정한다.\n",
    "%cd /Users/renardy/virtual/yolov5/yolov5\n",
    "!pip install -r requirements.txt"
   ]
  },
  {
   "cell_type": "code",
   "execution_count": null,
   "id": "58cd0108",
   "metadata": {},
   "outputs": [],
   "source": [
    "#coco128 yaml 파일을 확인한다. #cocos128 yaml 파일을 수정한다\n",
    "#이미지 파일 경로 및 클래스 \n",
    "%cat /Users/renardy/virtual/yolov5/yolov5/data/coco.yaml"
   ]
  },
  {
   "cell_type": "code",
   "execution_count": null,
   "id": "5cfa7fa8",
   "metadata": {},
   "outputs": [],
   "source": [
    "#데이터를 다운로드 받은 후 압축파일을 푼다. \n",
    "#다운로드 링크 https://drive.google.com/file/d/1tQHPoU-cvPv6IlsdIAhampioNiq1V_nU/view?usp=sharing\n",
    "! unzip /Users/renardy/virtual/yolov5/yolov5/data/coco128.zip"
   ]
  },
  {
   "cell_type": "code",
   "execution_count": null,
   "id": "29b84a6f",
   "metadata": {},
   "outputs": [],
   "source": [
    "!pip install sklearn"
   ]
  },
  {
   "cell_type": "code",
   "execution_count": null,
   "id": "f9770093",
   "metadata": {},
   "outputs": [],
   "source": [
    "#새로 yaml파일을 읽어온다. #data.yaml파일에서 깃허브 내용 삭제.\n",
    "import yaml\n",
    "\n",
    "with open('/Users/renardy/virtual/yolov5/yolov5/data/coco.yaml', 'r') as f:\n",
    "  data = yaml.load(f)\n",
    "\n",
    "print(data)\n",
    "\n",
    "data['train'] = '/Users/renardy/virtual/yolov5/yolov5/coco128/train.txt'\n",
    "data['val'] = '/Users/renardy/virtual/yolov5/yolov5/coco128/val.txt'\n",
    "\n",
    "with open('/Users/renardy/virtual/yolov5/yolov5/data/data.yaml', 'w') as f:\n",
    "  yaml.dump(data, f)\n",
    "\n",
    "print(data)"
   ]
  },
  {
   "cell_type": "code",
   "execution_count": null,
   "id": "7dd4a9e6",
   "metadata": {},
   "outputs": [],
   "source": [
    "#데이터 개수를 센다\n",
    "from glob import glob\n",
    "\n",
    "img_list = glob('/Users/renardy/virtual/yolov5/yolov5/coco128/images/*.jpg')\n",
    "print(len(img_list))"
   ]
  },
  {
   "cell_type": "code",
   "execution_count": null,
   "id": "663b1953",
   "metadata": {},
   "outputs": [],
   "source": [
    "#학습데이터랑 검증 데이터로 나눈다.\n",
    "from sklearn.model_selection import train_test_split\n",
    "\n",
    "train_img_list, val_img_list = train_test_split(img_list, test_size=0.2, random_state=2000)\n",
    "print(len(train_img_list), len(val_img_list))"
   ]
  },
  {
   "cell_type": "code",
   "execution_count": null,
   "id": "b05b0ec9",
   "metadata": {},
   "outputs": [],
   "source": [
    "#파일 생성( 학습데이터랑 검증데이터 경로를 저장한 파일 생성)\n",
    "with open('/Users/renardy/virtual/yolov5/yolov5/coco128/train.txt', 'w') as f:\n",
    "  f.write('\\n'.join(train_img_list) + '\\n')\n",
    "\n",
    "with open('/Users/renardy/virtual/yolov5/yolov5/coco128/val.txt', 'w') as f:\n",
    "  f.write('\\n'.join(val_img_list) + '\\n')"
   ]
  },
  {
   "cell_type": "code",
   "execution_count": null,
   "id": "f17f5bbb",
   "metadata": {},
   "outputs": [],
   "source": [
    "#모델을 다운 받은 후 경로 지정하기\n",
    "#/model 폴더에서 yolov5l.yaml, yolov5m.yaml, yolov5s.yaml, yolov5x.yaml 확인 후 진행\n",
    "#이전에 학습한 모델을 사용하려면 pt파일로 붙여주기\n",
    "\n",
    "#트레이닝 시작 (옵션에 맞게 설정 진행) 아래 주석은 yolov5 깃허브 내용\n",
    "# !python train.py --img 640 --batch 16 --epochs 5 --data coco128.yaml --weights yolov5s.pt\n",
    "!python train.py --img 320 --batch 16 --epochs 20 --data /Users/renardy/virtual/yolov5/yolov5/data/data.yaml --weights /Users/renardy/virtual/yolov5/yolov5/data/best_last.pt --name lol_object_detection_final"
   ]
  },
  {
   "cell_type": "code",
   "execution_count": null,
   "id": "0714079f",
   "metadata": {},
   "outputs": [],
   "source": [
    "#학습한 모델로 물체 인식을 해보자\n",
    "# !python detect.py --source 0  # webcam\n",
    "#                            file.jpg  # image \n",
    "#                            file.mp4  # video\n",
    "#                            path/  # directory\n",
    "#                            path/*.jpg  # glob\n",
    "#                            'https://youtu.be/NUsoVlDFqZg'  # YouTube video\n",
    "#                            'rtsp://example.com/media.mp4'  # RTSP, RTMP, HTTP stream\n",
    "\n",
    "#위 예제 구문을 확인하여 이미지 및 비디오 등으로 선택하여 물체 인식을 할 수 있다."
   ]
  }
 ],
 "metadata": {
  "kernelspec": {
   "display_name": "Python 3",
   "language": "python",
   "name": "python3"
  },
  "language_info": {
   "codemirror_mode": {
    "name": "ipython",
    "version": 3
   },
   "file_extension": ".py",
   "mimetype": "text/x-python",
   "name": "python",
   "nbconvert_exporter": "python",
   "pygments_lexer": "ipython3",
   "version": "3.8.2"
  }
 },
 "nbformat": 4,
 "nbformat_minor": 5
}
